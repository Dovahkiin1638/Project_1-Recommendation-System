{
  "nbformat": 4,
  "nbformat_minor": 0,
  "metadata": {
    "colab": {
      "name": "Mentoring_session.ipynb",
      "provenance": [],
      "collapsed_sections": []
    },
    "kernelspec": {
      "name": "python3",
      "display_name": "Python 3"
    }
  },
  "cells": [
    {
      "cell_type": "markdown",
      "metadata": {
        "id": "LV23zyL8okKx"
      },
      "source": [
        "# Assignment 1"
      ]
    },
    {
      "cell_type": "markdown",
      "metadata": {
        "id": "YE8RlJoJAWg7"
      },
      "source": [
        "**Content Based**\r\n",
        "\r\n",
        "Main Idea: Recommend items rated highly by him earlier.\r\n",
        "\r\n",
        "**Collaborative System**\r\n",
        "\r\n",
        "Recommend items rated high by other customers having same customer profile. \r\n",
        "\r\n"
      ]
    },
    {
      "cell_type": "markdown",
      "metadata": {
        "id": "y1B9XA-Hoof7"
      },
      "source": [
        "In the following table `A`,`B`,`C` and `D` are the people with their respective ratings for films. \r\n",
        "\r\n",
        "\r\n",
        "|   | A   | B   | C   | D   |\r\n",
        "|-  |-  |-  |-  |-  |\r\n",
        "| Film 1  | 0.3   | 0.1   | 0.4   | 0.9   |\r\n",
        "| Film 2  | 0.3   | 0.8   | 0.7   | 0.7   |\r\n",
        "| Film 3  | 0.4   | 0.2   | 0.6   | 0.4   |\r\n",
        "| Film 4  | 0.6   | 0.4   | 0.3   | 0.2   |\r\n",
        "\r\n",
        "Cosine similarity is given by :\r\n",
        "\r\n",
        "$$Cos(x, y) = x . y / ||x|| \\times ||y||$$,\r\n",
        "\r\n",
        "where,\r\n",
        "\r\n",
        "$x,y$ are vectors\r\n",
        "\r\n",
        "$x.y$ is dot product\r\n",
        "\r\n",
        "$||x||$ is norm of $x$\r\n",
        "\r\n",
        "$||y||$ is norm of $y$\r\n",
        "\r\n",
        "\r\n",
        "\r\n",
        "**Example:** Here, Film 1 and Film 2 have ratings $(0.3, 0.1, 0.4, 0.9)$ and $(0.3, 0.8, 0.7, 0.7)$ by user $A, B, C$ and $D$ respectively. \r\n",
        "\r\n",
        "Let, \r\n",
        "\r\n",
        "$x=[ 0.3, 0.1, 0.4, 0.9 ]$ and\r\n",
        "\r\n",
        "$y=[ 0.3, 0.8, 0.7, 0.7 ]$\r\n",
        "\r\n",
        "There dot product:\r\n",
        "\r\n",
        " $x.y= 0.3 \\times 0.3 + 0.1 \\times 0.8 + 0.4 \\times 0.7 + 0.9 \\times 0.7 = 1.08$\r\n",
        "\r\n",
        " $||x||= \\sqrt{(0.3)^2 + (0.1)^2 + (0.4)^2 + (0.9)^2} = 1.03$\r\n",
        "\r\n",
        " $||y||= \\sqrt{(0.3)^2 + (0.8)^2 + (0.7)^2 + (0.7)^2} = 1.30$\r\n",
        "\r\n",
        " Hence, Cosine similarity is = $(x . y) / ||x|| \\times ||y|| = 0.79$"
      ]
    },
    {
      "cell_type": "code",
      "metadata": {
        "colab": {
          "base_uri": "https://localhost:8080/"
        },
        "id": "TWC6CEGctHri",
        "outputId": "13b70ae7-3658-4e86-e717-d10309809a19"
      },
      "source": [
        "# calculate dot product.\r\n",
        "\r\n",
        "import numpy as np\r\n",
        "\r\n",
        "a = [0.3, 0.1, 0.4, 0.9]\r\n",
        "\r\n",
        "b = [0.3, 0.8, 0.7, 0.7]\r\n",
        "\r\n",
        "print(np.dot(a, b))"
      ],
      "execution_count": null,
      "outputs": [
        {
          "output_type": "stream",
          "text": [
            "1.08\n"
          ],
          "name": "stdout"
        }
      ]
    },
    {
      "cell_type": "code",
      "metadata": {
        "colab": {
          "base_uri": "https://localhost:8080/"
        },
        "id": "xhLjE2uVtdY-",
        "outputId": "c6419f52-2d35-4511-d1c7-239c377012de"
      },
      "source": [
        "# Calclate Norm of a and b\r\n",
        "\r\n",
        "from numpy import linalg as LA\r\n",
        "\r\n",
        "print(LA.norm(a))\r\n",
        "\r\n",
        "print(LA.norm(b))"
      ],
      "execution_count": null,
      "outputs": [
        {
          "output_type": "stream",
          "text": [
            "1.03440804327886\n",
            "1.307669683062202\n"
          ],
          "name": "stdout"
        }
      ]
    },
    {
      "cell_type": "code",
      "metadata": {
        "colab": {
          "base_uri": "https://localhost:8080/"
        },
        "id": "PnHL4YQewXoI",
        "outputId": "efc62bdc-2f94-45c1-ac07-756281247bb7"
      },
      "source": [
        "# Calculate cosine similarity as follows:\r\n",
        "\r\n",
        "cos_sim_a_b= np.dot(a, b)/(LA.norm(a)*LA.norm(b))\r\n",
        "cos_sim_a_b"
      ],
      "execution_count": null,
      "outputs": [
        {
          "output_type": "execute_result",
          "data": {
            "text/plain": [
              "0.7984244199379004"
            ]
          },
          "metadata": {
            "tags": []
          },
          "execution_count": 3
        }
      ]
    },
    {
      "cell_type": "markdown",
      "metadata": {
        "id": "gzIrPKxhw2jp"
      },
      "source": [
        "Question: Find out the two movies showing the highest cosine similarity out of all?\r\n",
        "\r\n",
        "Hint:\r\n",
        "\r\n",
        "1. Save all the ratings of the film in the 2D list. \r\n",
        "\r\n",
        "2. Use for loop and calculate cosine similarity for each pair. \r\n",
        "\r\n",
        "3. Return the maximum of cosine similarity value. "
      ]
    },
    {
      "cell_type": "code",
      "metadata": {
        "id": "VLwu3OXNpZrQ"
      },
      "source": [
        "rating=[\t[0.3,\t0.1,\t0.4,\t0.9],\r\n",
        "\t[0.3,\t0.8,\t0.7,\t0.7],\r\n",
        "\t[0.4,\t0.2,\t0.6,\t0.4],\r\n",
        "\t[0.6,\t0.4,\t0.3,\t0.2]]\r\n"
      ],
      "execution_count": null,
      "outputs": []
    },
    {
      "cell_type": "code",
      "metadata": {
        "colab": {
          "base_uri": "https://localhost:8080/"
        },
        "id": "xUthVfYu4Qk7",
        "outputId": "f1a23e3f-ba83-4448-cf27-d38858932bd7"
      },
      "source": [
        "import numpy as np\r\n",
        "\r\n",
        "from numpy import linalg as LA\r\n",
        "\r\n",
        "max=0\r\n",
        "\r\n",
        "film1=0\r\n",
        "film2=0\r\n",
        "\r\n",
        "for i in range(4):\r\n",
        "  for j in range(i):\r\n",
        "    if max<np.dot(rating[i], rating[j])/(LA.norm(rating[i])*LA.norm(rating[j])):\r\n",
        "      max=np.dot(rating[i], rating[j])/(LA.norm(rating[i])*LA.norm(rating[j]))\r\n",
        "      film1=i\r\n",
        "      film2=j\r\n",
        "\r\n",
        "print(max)\r\n",
        "print(film1)\r\n",
        "print(film2)\r\n",
        "\r\n",
        "\r\n"
      ],
      "execution_count": null,
      "outputs": [
        {
          "output_type": "stream",
          "text": [
            "0.8832055150452626\n",
            "2\n",
            "1\n"
          ],
          "name": "stdout"
        }
      ]
    },
    {
      "cell_type": "markdown",
      "metadata": {
        "id": "-N04ZYZ469bx"
      },
      "source": [
        "For Users: "
      ]
    },
    {
      "cell_type": "code",
      "metadata": {
        "colab": {
          "base_uri": "https://localhost:8080/"
        },
        "id": "7xNuv9129T6p",
        "outputId": "42e29131-faed-4f95-8f19-4f7db512eef9"
      },
      "source": [
        "rating=np.array(rating)\r\n",
        "rating[0]\r\n"
      ],
      "execution_count": null,
      "outputs": [
        {
          "output_type": "execute_result",
          "data": {
            "text/plain": [
              "array([0.3, 0.1, 0.4, 0.9])"
            ]
          },
          "metadata": {
            "tags": []
          },
          "execution_count": 8
        }
      ]
    },
    {
      "cell_type": "code",
      "metadata": {
        "id": "LKqXARKa9gFx"
      },
      "source": [
        "rating=np.transpose(rating)"
      ],
      "execution_count": null,
      "outputs": []
    },
    {
      "cell_type": "code",
      "metadata": {
        "colab": {
          "base_uri": "https://localhost:8080/"
        },
        "id": "crv6Y0Q99Ffd",
        "outputId": "edaaeac9-5ef1-433d-a26d-66d9ffd412ed"
      },
      "source": [
        "import numpy as np\r\n",
        "\r\n",
        "from numpy import linalg as LA\r\n",
        "\r\n",
        "max=0\r\n",
        "\r\n",
        "user1=0\r\n",
        "user2=0\r\n",
        "\r\n",
        "for i in range(4):\r\n",
        "  for j in range(i):\r\n",
        "    if max<np.dot(rating[i], rating[j])/(LA.norm(rating[i])*LA.norm(rating[j])):\r\n",
        "      max=np.dot(rating[i], rating[j])/(LA.norm(rating[i])*LA.norm(rating[j]))\r\n",
        "      user1=i\r\n",
        "      user2=j\r\n",
        "\r\n",
        "print(max)\r\n",
        "print(user1)\r\n",
        "print(user2)\r\n"
      ],
      "execution_count": null,
      "outputs": [
        {
          "output_type": "stream",
          "text": [
            "0.8952737857857513\n",
            "3\n",
            "2\n"
          ],
          "name": "stdout"
        }
      ]
    },
    {
      "cell_type": "markdown",
      "metadata": {
        "id": "mTk09yT1DT2W"
      },
      "source": [
        "Predict the best movie for User4 using:\r\n",
        "\r\n",
        "1. Content Based.\r\n",
        "\r\n",
        "2. Collaborative System."
      ]
    },
    {
      "cell_type": "markdown",
      "metadata": {
        "id": "Bg6JfAQVHO8t"
      },
      "source": [
        "#Assignment 2"
      ]
    },
    {
      "cell_type": "markdown",
      "metadata": {
        "id": "mohBLBmC6w57"
      },
      "source": [
        "Fill in the missing Values:\r\n",
        "\r\n",
        "**Normalization:**\r\n",
        "\r\n",
        "|   | A   | B   | C   | D   |\r\n",
        "|-  |-  |-  |-  |-  |\r\n",
        "| Film 1  | 0.3   | -  | 0.4   | 0.9   |\r\n",
        "| Film 2  | -  | 0.8   | 0.7   | -   |\r\n",
        "| Film 3  | 0.4   | 0.2   | -  | 0.4   |\r\n",
        "| Film 4  | 0.6   | - | 0.3   | 0.2   |\r\n",
        "\r\n",
        "\r\n"
      ]
    },
    {
      "cell_type": "code",
      "metadata": {
        "id": "azy7rnoKIWYM"
      },
      "source": [
        "rating1=[\t[0.3,\t0.0,\t0.4,\t0.9],\r\n",
        "\t[0.0,\t0.8,\t0.7,\t0.0],\r\n",
        "\t[0.4,\t0.2,\t0.0,\t0.4],\r\n",
        "\t[0.6,\t0.0,\t0.3,\t0.2]]"
      ],
      "execution_count": null,
      "outputs": []
    },
    {
      "cell_type": "code",
      "metadata": {
        "colab": {
          "base_uri": "https://localhost:8080/"
        },
        "id": "X5k3iLBRIp-D",
        "outputId": "d161a495-ccc2-4c7b-e4c8-783f251c6eac"
      },
      "source": [
        "import numpy as np\r\n",
        "\r\n",
        "cos_si = [[0]*4]*4\r\n",
        "\r\n",
        "print(cos_si)\r\n",
        "\r\n",
        "for i in range(4):\r\n",
        "  for j in range(4):\r\n",
        "      print(np.dot(rating1[i], rating1[j])/(LA.norm(rating1[i])*LA.norm(rating1[j])))\r\n"
      ],
      "execution_count": null,
      "outputs": [
        {
          "output_type": "stream",
          "text": [
            "[[0, 0, 0, 0], [0, 0, 0, 0], [0, 0, 0, 0], [0, 0, 0, 0]]\n",
            "1.0000000000000002\n",
            "0.2558384863679222\n",
            "0.7770286898858113\n",
            "0.6660245913306955\n",
            "0.2558384863679222\n",
            "1.0\n",
            "0.25085889823562596\n",
            "0.28221626051507914\n",
            "0.7770286898858113\n",
            "0.25085889823562596\n",
            "0.9999999999999999\n",
            "0.7619047619047619\n",
            "0.6660245913306955\n",
            "0.28221626051507914\n",
            "0.7619047619047619\n",
            "1.0\n"
          ],
          "name": "stdout"
        }
      ]
    },
    {
      "cell_type": "markdown",
      "metadata": {
        "id": "gzAFxpagOZ-b"
      },
      "source": [
        "---"
      ]
    },
    {
      "cell_type": "markdown",
      "metadata": {
        "id": "VCX8vzrAOUtb"
      },
      "source": [
        "# Assignment 3"
      ]
    },
    {
      "cell_type": "markdown",
      "metadata": {
        "id": "XYXiIDsVwbhc"
      },
      "source": [
        "---"
      ]
    },
    {
      "cell_type": "code",
      "metadata": {
        "id": "W-tVJmxgOtct"
      },
      "source": [
        "#https://www.kaggle.com/shubhammehta21/movie-lens-small-latest-dataset?select=ratings.csv"
      ],
      "execution_count": null,
      "outputs": []
    },
    {
      "cell_type": "code",
      "metadata": {
        "id": "YdfI8aX3YBIU"
      },
      "source": [
        ""
      ],
      "execution_count": null,
      "outputs": []
    },
    {
      "cell_type": "code",
      "metadata": {
        "id": "TPxbphq0p_xE"
      },
      "source": [
        "import numpy as np\r\n",
        "import pandas as pd\r\n",
        "from math import sqrt\r\n",
        "import matplotlib.pyplot as plt\r\n",
        "%matplotlib inline\r\n",
        "\r\n",
        "movies= pd.read_csv('/content/movies.csv')\r\n",
        "ratings=pd.read_csv('/content/ratings.csv')\r\n"
      ],
      "execution_count": null,
      "outputs": []
    },
    {
      "cell_type": "code",
      "metadata": {
        "colab": {
          "base_uri": "https://localhost:8080/",
          "height": 197
        },
        "id": "AvtnCuNmwdVN",
        "outputId": "52537b6c-e773-4d3d-8684-7862dc57f336"
      },
      "source": [
        "movies.head()"
      ],
      "execution_count": null,
      "outputs": [
        {
          "output_type": "execute_result",
          "data": {
            "text/html": [
              "<div>\n",
              "<style scoped>\n",
              "    .dataframe tbody tr th:only-of-type {\n",
              "        vertical-align: middle;\n",
              "    }\n",
              "\n",
              "    .dataframe tbody tr th {\n",
              "        vertical-align: top;\n",
              "    }\n",
              "\n",
              "    .dataframe thead th {\n",
              "        text-align: right;\n",
              "    }\n",
              "</style>\n",
              "<table border=\"1\" class=\"dataframe\">\n",
              "  <thead>\n",
              "    <tr style=\"text-align: right;\">\n",
              "      <th></th>\n",
              "      <th>movieId</th>\n",
              "      <th>title</th>\n",
              "      <th>genres</th>\n",
              "    </tr>\n",
              "  </thead>\n",
              "  <tbody>\n",
              "    <tr>\n",
              "      <th>0</th>\n",
              "      <td>1</td>\n",
              "      <td>Toy Story (1995)</td>\n",
              "      <td>Adventure|Animation|Children|Comedy|Fantasy</td>\n",
              "    </tr>\n",
              "    <tr>\n",
              "      <th>1</th>\n",
              "      <td>2</td>\n",
              "      <td>Jumanji (1995)</td>\n",
              "      <td>Adventure|Children|Fantasy</td>\n",
              "    </tr>\n",
              "    <tr>\n",
              "      <th>2</th>\n",
              "      <td>3</td>\n",
              "      <td>Grumpier Old Men (1995)</td>\n",
              "      <td>Comedy|Romance</td>\n",
              "    </tr>\n",
              "    <tr>\n",
              "      <th>3</th>\n",
              "      <td>4</td>\n",
              "      <td>Waiting to Exhale (1995)</td>\n",
              "      <td>Comedy|Drama|Romance</td>\n",
              "    </tr>\n",
              "    <tr>\n",
              "      <th>4</th>\n",
              "      <td>5</td>\n",
              "      <td>Father of the Bride Part II (1995)</td>\n",
              "      <td>Comedy</td>\n",
              "    </tr>\n",
              "  </tbody>\n",
              "</table>\n",
              "</div>"
            ],
            "text/plain": [
              "   movieId  ...                                       genres\n",
              "0        1  ...  Adventure|Animation|Children|Comedy|Fantasy\n",
              "1        2  ...                   Adventure|Children|Fantasy\n",
              "2        3  ...                               Comedy|Romance\n",
              "3        4  ...                         Comedy|Drama|Romance\n",
              "4        5  ...                                       Comedy\n",
              "\n",
              "[5 rows x 3 columns]"
            ]
          },
          "metadata": {
            "tags": []
          },
          "execution_count": 19
        }
      ]
    },
    {
      "cell_type": "code",
      "metadata": {
        "colab": {
          "base_uri": "https://localhost:8080/",
          "height": 197
        },
        "id": "7Ju_n8Lvwf9j",
        "outputId": "ab40dca7-d405-4c46-e87b-35c959390eea"
      },
      "source": [
        "ratings.head()"
      ],
      "execution_count": null,
      "outputs": [
        {
          "output_type": "execute_result",
          "data": {
            "text/html": [
              "<div>\n",
              "<style scoped>\n",
              "    .dataframe tbody tr th:only-of-type {\n",
              "        vertical-align: middle;\n",
              "    }\n",
              "\n",
              "    .dataframe tbody tr th {\n",
              "        vertical-align: top;\n",
              "    }\n",
              "\n",
              "    .dataframe thead th {\n",
              "        text-align: right;\n",
              "    }\n",
              "</style>\n",
              "<table border=\"1\" class=\"dataframe\">\n",
              "  <thead>\n",
              "    <tr style=\"text-align: right;\">\n",
              "      <th></th>\n",
              "      <th>userId</th>\n",
              "      <th>movieId</th>\n",
              "      <th>rating</th>\n",
              "      <th>timestamp</th>\n",
              "    </tr>\n",
              "  </thead>\n",
              "  <tbody>\n",
              "    <tr>\n",
              "      <th>0</th>\n",
              "      <td>1</td>\n",
              "      <td>1</td>\n",
              "      <td>4.0</td>\n",
              "      <td>964982703</td>\n",
              "    </tr>\n",
              "    <tr>\n",
              "      <th>1</th>\n",
              "      <td>1</td>\n",
              "      <td>3</td>\n",
              "      <td>4.0</td>\n",
              "      <td>964981247</td>\n",
              "    </tr>\n",
              "    <tr>\n",
              "      <th>2</th>\n",
              "      <td>1</td>\n",
              "      <td>6</td>\n",
              "      <td>4.0</td>\n",
              "      <td>964982224</td>\n",
              "    </tr>\n",
              "    <tr>\n",
              "      <th>3</th>\n",
              "      <td>1</td>\n",
              "      <td>47</td>\n",
              "      <td>5.0</td>\n",
              "      <td>964983815</td>\n",
              "    </tr>\n",
              "    <tr>\n",
              "      <th>4</th>\n",
              "      <td>1</td>\n",
              "      <td>50</td>\n",
              "      <td>5.0</td>\n",
              "      <td>964982931</td>\n",
              "    </tr>\n",
              "  </tbody>\n",
              "</table>\n",
              "</div>"
            ],
            "text/plain": [
              "   userId  movieId  rating  timestamp\n",
              "0       1        1     4.0  964982703\n",
              "1       1        3     4.0  964981247\n",
              "2       1        6     4.0  964982224\n",
              "3       1       47     5.0  964983815\n",
              "4       1       50     5.0  964982931"
            ]
          },
          "metadata": {
            "tags": []
          },
          "execution_count": 14
        }
      ]
    },
    {
      "cell_type": "code",
      "metadata": {
        "id": "EHv4m-mlwnSj"
      },
      "source": [
        "\r\n",
        "movies['title'] = movies.title.str.replace('(\\(\\d\\d\\d\\d\\))', '')\r\n",
        "\r\n",
        "movies['title'] = movies['title'].apply(lambda x: x.strip())"
      ],
      "execution_count": null,
      "outputs": []
    },
    {
      "cell_type": "code",
      "metadata": {
        "colab": {
          "base_uri": "https://localhost:8080/",
          "height": 197
        },
        "id": "fi8v08TNwr4v",
        "outputId": "37a29e90-dca1-4bc2-c008-4ff119d9b016"
      },
      "source": [
        "movies.head()"
      ],
      "execution_count": null,
      "outputs": [
        {
          "output_type": "execute_result",
          "data": {
            "text/html": [
              "<div>\n",
              "<style scoped>\n",
              "    .dataframe tbody tr th:only-of-type {\n",
              "        vertical-align: middle;\n",
              "    }\n",
              "\n",
              "    .dataframe tbody tr th {\n",
              "        vertical-align: top;\n",
              "    }\n",
              "\n",
              "    .dataframe thead th {\n",
              "        text-align: right;\n",
              "    }\n",
              "</style>\n",
              "<table border=\"1\" class=\"dataframe\">\n",
              "  <thead>\n",
              "    <tr style=\"text-align: right;\">\n",
              "      <th></th>\n",
              "      <th>movieId</th>\n",
              "      <th>title</th>\n",
              "      <th>genres</th>\n",
              "    </tr>\n",
              "  </thead>\n",
              "  <tbody>\n",
              "    <tr>\n",
              "      <th>0</th>\n",
              "      <td>1</td>\n",
              "      <td>Toy Story</td>\n",
              "      <td>Adventure|Animation|Children|Comedy|Fantasy</td>\n",
              "    </tr>\n",
              "    <tr>\n",
              "      <th>1</th>\n",
              "      <td>2</td>\n",
              "      <td>Jumanji</td>\n",
              "      <td>Adventure|Children|Fantasy</td>\n",
              "    </tr>\n",
              "    <tr>\n",
              "      <th>2</th>\n",
              "      <td>3</td>\n",
              "      <td>Grumpier Old Men</td>\n",
              "      <td>Comedy|Romance</td>\n",
              "    </tr>\n",
              "    <tr>\n",
              "      <th>3</th>\n",
              "      <td>4</td>\n",
              "      <td>Waiting to Exhale</td>\n",
              "      <td>Comedy|Drama|Romance</td>\n",
              "    </tr>\n",
              "    <tr>\n",
              "      <th>4</th>\n",
              "      <td>5</td>\n",
              "      <td>Father of the Bride Part II</td>\n",
              "      <td>Comedy</td>\n",
              "    </tr>\n",
              "  </tbody>\n",
              "</table>\n",
              "</div>"
            ],
            "text/plain": [
              "   movieId  ...                                       genres\n",
              "0        1  ...  Adventure|Animation|Children|Comedy|Fantasy\n",
              "1        2  ...                   Adventure|Children|Fantasy\n",
              "2        3  ...                               Comedy|Romance\n",
              "3        4  ...                         Comedy|Drama|Romance\n",
              "4        5  ...                                       Comedy\n",
              "\n",
              "[5 rows x 3 columns]"
            ]
          },
          "metadata": {
            "tags": []
          },
          "execution_count": 22
        }
      ]
    },
    {
      "cell_type": "code",
      "metadata": {
        "id": "PwslWDrvxBLn"
      },
      "source": [
        "movies=movies.drop(columns='genres')"
      ],
      "execution_count": null,
      "outputs": []
    },
    {
      "cell_type": "code",
      "metadata": {
        "colab": {
          "base_uri": "https://localhost:8080/",
          "height": 197
        },
        "id": "xTht252zxGAe",
        "outputId": "bbfe1ced-cc36-4a72-fb16-8ea647c2cd2e"
      },
      "source": [
        "movies.head()"
      ],
      "execution_count": null,
      "outputs": [
        {
          "output_type": "execute_result",
          "data": {
            "text/html": [
              "<div>\n",
              "<style scoped>\n",
              "    .dataframe tbody tr th:only-of-type {\n",
              "        vertical-align: middle;\n",
              "    }\n",
              "\n",
              "    .dataframe tbody tr th {\n",
              "        vertical-align: top;\n",
              "    }\n",
              "\n",
              "    .dataframe thead th {\n",
              "        text-align: right;\n",
              "    }\n",
              "</style>\n",
              "<table border=\"1\" class=\"dataframe\">\n",
              "  <thead>\n",
              "    <tr style=\"text-align: right;\">\n",
              "      <th></th>\n",
              "      <th>movieId</th>\n",
              "      <th>title</th>\n",
              "    </tr>\n",
              "  </thead>\n",
              "  <tbody>\n",
              "    <tr>\n",
              "      <th>0</th>\n",
              "      <td>1</td>\n",
              "      <td>Toy Story</td>\n",
              "    </tr>\n",
              "    <tr>\n",
              "      <th>1</th>\n",
              "      <td>2</td>\n",
              "      <td>Jumanji</td>\n",
              "    </tr>\n",
              "    <tr>\n",
              "      <th>2</th>\n",
              "      <td>3</td>\n",
              "      <td>Grumpier Old Men</td>\n",
              "    </tr>\n",
              "    <tr>\n",
              "      <th>3</th>\n",
              "      <td>4</td>\n",
              "      <td>Waiting to Exhale</td>\n",
              "    </tr>\n",
              "    <tr>\n",
              "      <th>4</th>\n",
              "      <td>5</td>\n",
              "      <td>Father of the Bride Part II</td>\n",
              "    </tr>\n",
              "  </tbody>\n",
              "</table>\n",
              "</div>"
            ],
            "text/plain": [
              "   movieId                        title\n",
              "0        1                    Toy Story\n",
              "1        2                      Jumanji\n",
              "2        3             Grumpier Old Men\n",
              "3        4            Waiting to Exhale\n",
              "4        5  Father of the Bride Part II"
            ]
          },
          "metadata": {
            "tags": []
          },
          "execution_count": 26
        }
      ]
    },
    {
      "cell_type": "code",
      "metadata": {
        "colab": {
          "base_uri": "https://localhost:8080/"
        },
        "id": "t48bqNhKxXku",
        "outputId": "c554323a-a0a0-4bb2-e2ec-5c932c5031c9"
      },
      "source": [
        "movies.shape"
      ],
      "execution_count": null,
      "outputs": [
        {
          "output_type": "execute_result",
          "data": {
            "text/plain": [
              "(9742, 2)"
            ]
          },
          "metadata": {
            "tags": []
          },
          "execution_count": 27
        }
      ]
    },
    {
      "cell_type": "code",
      "metadata": {
        "id": "K8MP_dCFxgx6"
      },
      "source": [
        "ratings=ratings.drop(columns='timestamp')"
      ],
      "execution_count": null,
      "outputs": []
    },
    {
      "cell_type": "code",
      "metadata": {
        "colab": {
          "base_uri": "https://localhost:8080/",
          "height": 197
        },
        "id": "olH4P0xr8YER",
        "outputId": "6ba43c16-6ac1-4c2e-8680-e6a878d545e3"
      },
      "source": [
        "ratings.head()"
      ],
      "execution_count": null,
      "outputs": [
        {
          "output_type": "execute_result",
          "data": {
            "text/html": [
              "<div>\n",
              "<style scoped>\n",
              "    .dataframe tbody tr th:only-of-type {\n",
              "        vertical-align: middle;\n",
              "    }\n",
              "\n",
              "    .dataframe tbody tr th {\n",
              "        vertical-align: top;\n",
              "    }\n",
              "\n",
              "    .dataframe thead th {\n",
              "        text-align: right;\n",
              "    }\n",
              "</style>\n",
              "<table border=\"1\" class=\"dataframe\">\n",
              "  <thead>\n",
              "    <tr style=\"text-align: right;\">\n",
              "      <th></th>\n",
              "      <th>userId</th>\n",
              "      <th>movieId</th>\n",
              "      <th>rating</th>\n",
              "    </tr>\n",
              "  </thead>\n",
              "  <tbody>\n",
              "    <tr>\n",
              "      <th>0</th>\n",
              "      <td>1</td>\n",
              "      <td>1</td>\n",
              "      <td>4.0</td>\n",
              "    </tr>\n",
              "    <tr>\n",
              "      <th>1</th>\n",
              "      <td>1</td>\n",
              "      <td>3</td>\n",
              "      <td>4.0</td>\n",
              "    </tr>\n",
              "    <tr>\n",
              "      <th>2</th>\n",
              "      <td>1</td>\n",
              "      <td>6</td>\n",
              "      <td>4.0</td>\n",
              "    </tr>\n",
              "    <tr>\n",
              "      <th>3</th>\n",
              "      <td>1</td>\n",
              "      <td>47</td>\n",
              "      <td>5.0</td>\n",
              "    </tr>\n",
              "    <tr>\n",
              "      <th>4</th>\n",
              "      <td>1</td>\n",
              "      <td>50</td>\n",
              "      <td>5.0</td>\n",
              "    </tr>\n",
              "  </tbody>\n",
              "</table>\n",
              "</div>"
            ],
            "text/plain": [
              "   userId  movieId  rating\n",
              "0       1        1     4.0\n",
              "1       1        3     4.0\n",
              "2       1        6     4.0\n",
              "3       1       47     5.0\n",
              "4       1       50     5.0"
            ]
          },
          "metadata": {
            "tags": []
          },
          "execution_count": 29
        }
      ]
    }
  ]
}